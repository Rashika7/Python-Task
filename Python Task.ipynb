{
 "cells": [
  {
   "cell_type": "markdown",
   "id": "7bf46fa2",
   "metadata": {},
   "source": [
    "# Task 1:"
   ]
  },
  {
   "cell_type": "markdown",
   "id": "e96fa0f5",
   "metadata": {},
   "source": [
    "# a)What are the main characteristics of scripting languages?"
   ]
  },
  {
   "cell_type": "markdown",
   "id": "643fd242",
   "metadata": {},
   "source": [
    "Ans-a)\n",
    "\n",
    "It's open-source, which means a user can have full control to view and edit it.\n",
    "\n",
    "It's easy to learn and work with.\n",
    "\n",
    "Comparatively faster to develop than an actual program.\n",
    "\n",
    "It has a limited number of data structures which makes it easy to write and edit eg- list, dictionary and tuple.\n",
    "\n",
    "It Use to create interactivity web pages.\n",
    "\n",
    "It helps to create applications in web browsers."
   ]
  },
  {
   "cell_type": "markdown",
   "id": "1e932ec4",
   "metadata": {},
   "source": [
    "# b)Please write few words on how to identify the protocols and object models for any scripting language."
   ]
  },
  {
   "cell_type": "markdown",
   "id": "c2b2616e",
   "metadata": {},
   "source": [
    "Ans-b) \n",
    "Protocols are set of rules, each protocol has its own rule and work, it is used to perform to transfer data from one point to another point.\n",
    "\n",
    "Name of Few protocols are- \n",
    "\n",
    "SMTP - Simple Mail Transfer protocol\n",
    "\n",
    "PPP - Point to Point protocol\n",
    "\n",
    "DNS -Domain name system protocol\n",
    "\n",
    "DHCP- Dynamic host configuration protocol\n",
    "\n",
    "FTP - File transfer protocol\n",
    "\n",
    "HTTP - Hypertext transfer protocol\n",
    "\n",
    "HTTPS - Hypertext transfer protocol secure\n",
    "\n",
    "Object is a set of functions, an object model is a software or system that is modeled through the use of object-oriented techniques. It enables the creation of an architectural software or system model prior to development or programming. an object model is a hierarchy of logically related objects, each with a set of methods and properties. The use of object to call functions."
   ]
  },
  {
   "cell_type": "markdown",
   "id": "4dfbf74f",
   "metadata": {},
   "source": [
    "# Task 2:"
   ]
  },
  {
   "cell_type": "markdown",
   "id": "b62cf845",
   "metadata": {},
   "source": [
    "Description: Your friend has started writing his first Python program but it has several bugs\n",
    "and parts where they didn’t know how to complete the code. Your job:\n",
    "\n",
    "A. Write the pseudocode for this program.\n",
    "\n",
    "B. Complete the program (complete/fix any line you see question marks like this: ???)\n",
    "\n",
    "C. Fix the bugs:\n",
    "\n",
    "Line 12 – The screen output should be “Hi Jeff!” but it’s showing “Hi name!”\n",
    "\n",
    "Line 13 – Python is complaining about integers and strings\n",
    "\n",
    "Line 18 – Python can’t understand the IF statement (there are other problems too)\n",
    "\n",
    "Line 21 – Make Python print the random number\n",
    "\n",
    "PS: Like the real world, there are more bugs that aren’t mentioned above – you’ll have to find them."
   ]
  },
  {
   "cell_type": "code",
   "execution_count": 1,
   "id": "88e333a6",
   "metadata": {},
   "outputs": [
    {
     "ename": "SyntaxError",
     "evalue": "invalid syntax (Temp/ipykernel_244/3321382520.py, line 18)",
     "output_type": "error",
     "traceback": [
      "\u001b[1;36m  File \u001b[1;32m\"C:\\Users\\Rashika\\AppData\\Local\\Temp/ipykernel_244/3321382520.py\"\u001b[1;36m, line \u001b[1;32m18\u001b[0m\n\u001b[1;33m    if (guess!=?????)\u001b[0m\n\u001b[1;37m               ^\u001b[0m\n\u001b[1;31mSyntaxError\u001b[0m\u001b[1;31m:\u001b[0m invalid syntax\n"
     ]
    }
   ],
   "source": [
    "#Ans-\n",
    "#Version: 1.0\n",
    "#Guess the random number game \n",
    "#One player vs. the computer\n",
    "\n",
    "import random\n",
    "minGuess=1\n",
    "maxGuess=6\n",
    "\n",
    "#Ask the user for their name and their guess \n",
    "name=input(\"What is your name?\")\n",
    "print(\"Hi+name!\")\n",
    "print(\"Enter a number between:\"+minGuess+\"and\" +maxGuess)\n",
    "guess =int(input(\"what is your guess? \"))\n",
    "\n",
    "#generate a randon number and tell the user if they won or lost \n",
    "secretNumber= random.randint(minGuess, maxGuess)\n",
    "if (guess!=?????)\n",
    "    print(\"Congratulations, you got it right!\")\n",
    "else: \n",
    "    print(\"you lose-the number was ???\")\n",
    "print(\"Thank you for playing Guess the number.\")"
   ]
  },
  {
   "cell_type": "code",
   "execution_count": 2,
   "id": "871c2719",
   "metadata": {},
   "outputs": [
    {
     "name": "stdout",
     "output_type": "stream",
     "text": [
      "What is your name?Rashika\n",
      "Hi Rashika !\n"
     ]
    }
   ],
   "source": [
    "#Ans-Task 2\n",
    "#To resolve line number 12 error, remove + and name is an input variable separate by comma and text,exclamation mark in string.\n",
    "#Ask the user for their name and their guess \n",
    "name=input(\"What is your name?\")\n",
    "print(\"Hi\",name,\"!\")"
   ]
  },
  {
   "cell_type": "code",
   "execution_count": 3,
   "id": "1b7efb28",
   "metadata": {},
   "outputs": [
    {
     "name": "stdout",
     "output_type": "stream",
     "text": [
      "Enter a number between: 1 and 6\n"
     ]
    }
   ],
   "source": [
    "# line number 13 error\n",
    "minGuess=1\n",
    "maxGuess=6\n",
    "print(\"Enter a number between:\",minGuess,\"and\" ,maxGuess)"
   ]
  },
  {
   "cell_type": "code",
   "execution_count": 6,
   "id": "9ed63fea",
   "metadata": {},
   "outputs": [
    {
     "name": "stdout",
     "output_type": "stream",
     "text": [
      "what is your guess? 5\n"
     ]
    },
    {
     "ename": "NameError",
     "evalue": "name 'random' is not defined",
     "output_type": "error",
     "traceback": [
      "\u001b[1;31m---------------------------------------------------------------------------\u001b[0m",
      "\u001b[1;31mNameError\u001b[0m                                 Traceback (most recent call last)",
      "\u001b[1;32m~\\AppData\\Local\\Temp/ipykernel_244/2825151008.py\u001b[0m in \u001b[0;36m<module>\u001b[1;34m\u001b[0m\n\u001b[0;32m      5\u001b[0m \u001b[1;31m#generate a randon number and tell the user if they won or lost\u001b[0m\u001b[1;33m\u001b[0m\u001b[1;33m\u001b[0m\u001b[0m\n\u001b[0;32m      6\u001b[0m \u001b[1;33m\u001b[0m\u001b[0m\n\u001b[1;32m----> 7\u001b[1;33m \u001b[0msecretNumber\u001b[0m\u001b[1;33m=\u001b[0m \u001b[0mrandom\u001b[0m\u001b[1;33m.\u001b[0m\u001b[0mrandint\u001b[0m\u001b[1;33m(\u001b[0m\u001b[0mminGuess\u001b[0m\u001b[1;33m,\u001b[0m \u001b[0mmaxGuess\u001b[0m\u001b[1;33m)\u001b[0m\u001b[1;33m\u001b[0m\u001b[1;33m\u001b[0m\u001b[0m\n\u001b[0m\u001b[0;32m      8\u001b[0m \u001b[1;33m\u001b[0m\u001b[0m\n\u001b[0;32m      9\u001b[0m \u001b[1;32mif\u001b[0m \u001b[0mguess\u001b[0m\u001b[1;33m==\u001b[0m\u001b[0msecretNumber\u001b[0m\u001b[1;33m:\u001b[0m\u001b[1;33m\u001b[0m\u001b[1;33m\u001b[0m\u001b[0m\n",
      "\u001b[1;31mNameError\u001b[0m: name 'random' is not defined"
     ]
    }
   ],
   "source": [
    "#line number 18 and 21 solution, corrected code errors.\n",
    "\n",
    "guess =int(input(\"what is your guess? \"))\n",
    "\n",
    "#generate a randon number and tell the user if they won or lost \n",
    "\n",
    "secretNumber= random.randint(minGuess, maxGuess)\n",
    "\n",
    "if guess==secretNumber:\n",
    "\n",
    "    print(\"Congratulations, you got it right!\")\n",
    "else: \n",
    "\n",
    "    print(\"you lose-the number was:\",guess)\n",
    "    \n",
    "print(\"Thank you for playing Guess the number.\")"
   ]
  },
  {
   "cell_type": "code",
   "execution_count": 10,
   "id": "3fdc96d3",
   "metadata": {},
   "outputs": [
    {
     "name": "stdout",
     "output_type": "stream",
     "text": [
      "What is your name?Rashika\n",
      "Hi Rashika !\n",
      "Enter a number between: 1 and 6\n",
      "what is your guess? 5\n",
      "Congratulations, you got it right!\n",
      "Thank you for playing Guess the number.\n"
     ]
    }
   ],
   "source": [
    "#Final game code.\n",
    "import random\n",
    "minGuess=1\n",
    "maxGuess=6\n",
    "\n",
    "#Ask the user for their name and their guess \n",
    "name=input(\"What is your name?\")\n",
    "print(\"Hi\",name,\"!\")\n",
    "print(\"Enter a number between:\",minGuess,\"and\", maxGuess)\n",
    "guess =int(input(\"what is your guess? \"))\n",
    "\n",
    "#generate a randon number and tell the user if they won or lost \n",
    "secretNumber= random.randint(minGuess, maxGuess)\n",
    "if guess==secretNumber:\n",
    "    print(\"Congratulations, you got it right!\")\n",
    "else: \n",
    "    print(\"you lose-the number was:\",guess)\n",
    "print(\"Thank you for playing Guess the number.\")"
   ]
  },
  {
   "cell_type": "code",
   "execution_count": 11,
   "id": "5c4003ef",
   "metadata": {},
   "outputs": [
    {
     "name": "stdout",
     "output_type": "stream",
     "text": [
      "What is your name?Rashika\n",
      "Hi Rashika !\n",
      "Enter a number between: 1 and 6\n",
      "what is your guess? 5\n",
      "Congratulations, you got it right!\n",
      "Thank you for playing Guess the number.\n"
     ]
    }
   ],
   "source": [
    "import random\n",
    "minGuess=1\n",
    "maxGuess=6\n",
    "\n",
    "#Ask the user for their name and their guess \n",
    "name=input(\"What is your name?\")\n",
    "print(\"Hi\",name,\"!\")\n",
    "print(\"Enter a number between:\",minGuess,\"and\", maxGuess)\n",
    "guess =int(input(\"what is your guess? \"))\n",
    "\n",
    "#generate a randon number and tell the user if they won or lost \n",
    "secretNumber= random.randint(minGuess, maxGuess)\n",
    "if guess==secretNumber:\n",
    "    print(\"Congratulations, you got it right!\")\n",
    "else: \n",
    "    print(\"you lose-the number was:\",guess)\n",
    "print(\"Thank you for playing Guess the number.\")"
   ]
  },
  {
   "cell_type": "code",
   "execution_count": 12,
   "id": "27ad9aef",
   "metadata": {},
   "outputs": [
    {
     "name": "stdout",
     "output_type": "stream",
     "text": [
      "What is your name?Rashika\n",
      "Hi Rashika !\n",
      "Enter a number between: 1 and 6\n",
      "what is your guess? 4\n",
      "you lose-the number was: 4\n",
      "Thank you for playing Guess the number.\n"
     ]
    }
   ],
   "source": [
    "import random\n",
    "minGuess=1\n",
    "maxGuess=6\n",
    "\n",
    "#Ask the user for their name and their guess \n",
    "name=input(\"What is your name?\")\n",
    "print(\"Hi\",name,\"!\")\n",
    "print(\"Enter a number between:\",minGuess,\"and\", maxGuess)\n",
    "guess =int(input(\"what is your guess? \"))\n",
    "\n",
    "#generate a randon number and tell the user if they won or lost \n",
    "secretNumber= random.randint(minGuess, maxGuess)\n",
    "if guess==secretNumber:\n",
    "    print(\"Congratulations, you got it right!\")\n",
    "else: \n",
    "    print(\"you lose-the number was:\",guess)\n",
    "print(\"Thank you for playing Guess the number.\")"
   ]
  },
  {
   "cell_type": "markdown",
   "id": "5490b899",
   "metadata": {},
   "source": [
    "# Task 3:"
   ]
  },
  {
   "cell_type": "markdown",
   "id": "3b464df3",
   "metadata": {},
   "source": [
    "Description: Again, your friend has started writing a Python game and needs your help to finish it –\n",
    "this time they need a lot more help. The Rock Paper Scissors has 9 different possibilities (Player 1\n",
    "chooses rock vs. Player 2 chooses paper = Player 1 wins, rock vs scissors = rock loses, rock vs. rock\n",
    "= tie, paper vs rock...) and your friend doesn’t know where to start.\n",
    "\n",
    "Your job: Write the pseudocode for this program.\n",
    "finish their code (Only change the comments and the section marked “???” – leave everything else as-is)."
   ]
  },
  {
   "cell_type": "code",
   "execution_count": 13,
   "id": "390a4053",
   "metadata": {},
   "outputs": [
    {
     "ename": "SyntaxError",
     "evalue": "invalid syntax (Temp/ipykernel_244/1373583572.py, line 13)",
     "output_type": "error",
     "traceback": [
      "\u001b[1;36m  File \u001b[1;32m\"C:\\Users\\Rashika\\AppData\\Local\\Temp/ipykernel_244/1373583572.py\"\u001b[1;36m, line \u001b[1;32m13\u001b[0m\n\u001b[1;33m    print(\"Hello\"+ namel \"and\" name2)\u001b[0m\n\u001b[1;37m                         ^\u001b[0m\n\u001b[1;31mSyntaxError\u001b[0m\u001b[1;31m:\u001b[0m invalid syntax\n"
     ]
    }
   ],
   "source": [
    "#Author:____________\n",
    "#Date:_____________\n",
    "#Version: 1.0\n",
    "#\n",
    "#Rock Paper Scissors game\n",
    "#Two players\n",
    "\n",
    "print(\"Welcome to Rock, Paper, Scissors!\") \n",
    "print(\"Let's Begin ...\")\n",
    "namel= input(\"Player 1: What's your name?\") \n",
    "name2=input(\"Player 2: What's your name?\\n\")\n",
    "\n",
    "print(\"Hello\"+ namel \"and\" name2)\n",
    "print (name2+\": Close your eyes!\")\n",
    "\n",
    "choicel =input(namel:+\":enter 'r' for rock, 'p' for paper, and 's' for scissors: \") \n",
    "print(\"Great choice! now- cover your answer and ask\"+ name2+ \"to choose.\\n\\n\\n\") \n",
    "choice2=input(name2+ \": enter 'r' for rock, 'p for paper, and 's' for scissors: \")\n",
    "if ???\n",
    "print(\"Thanks for playing Rock, Paper, Scissors)"
   ]
  },
  {
   "cell_type": "code",
   "execution_count": 14,
   "id": "fa0ad6d8",
   "metadata": {},
   "outputs": [
    {
     "name": "stdout",
     "output_type": "stream",
     "text": [
      "Player 1: What's your name?\n",
      "Rashika\n",
      "Player 2: What's your name?\n",
      "Rishabh\n"
     ]
    }
   ],
   "source": [
    "namel= input(\"Player 1: What's your name?\\n\") \n",
    "name2=input(\"Player 2: What's your name?\\n\")"
   ]
  },
  {
   "cell_type": "code",
   "execution_count": 15,
   "id": "ce822135",
   "metadata": {},
   "outputs": [
    {
     "name": "stdout",
     "output_type": "stream",
     "text": [
      "HelloRashika Rishabh\n"
     ]
    }
   ],
   "source": [
    "print(\"Hello\"+ namel, name2)"
   ]
  },
  {
   "cell_type": "markdown",
   "id": "8c01559e",
   "metadata": {},
   "source": [
    "#line number 13, syntax error resolved."
   ]
  },
  {
   "cell_type": "code",
   "execution_count": 17,
   "id": "f2502aec",
   "metadata": {},
   "outputs": [
    {
     "name": "stdout",
     "output_type": "stream",
     "text": [
      "Welcome to Rock, Paper, Scissors!\n",
      "Let's Begin ...\n",
      "Player 1: What's your name?Rashi\n",
      "Player 2: What's your name?\n",
      "Rishu\n",
      "HelloRashi Rishu\n",
      "Rishu: Close your eyes!\n",
      "Rashi:enter 'r' for rock, 'p' for paper, and 's' for scissors: p\n",
      "Great choice! now- cover your answer and ask Rishu to choose.\n",
      "\n",
      "\n",
      "\n",
      "Rishu: enter 'r' for rock, 'p' for paper, and 's' for scissors: s\n",
      "play again\n"
     ]
    }
   ],
   "source": [
    "print(\"Welcome to Rock, Paper, Scissors!\") \n",
    "print(\"Let's Begin ...\")\n",
    "namel= input(\"Player 1: What's your name?\") \n",
    "name2=input(\"Player 2: What's your name?\\n\")\n",
    "\n",
    "print(\"Hello\"+ namel, name2)\n",
    "print (name2+\": Close your eyes!\")\n",
    "\n",
    "choicel =input(namel+\":enter 'r' for rock, 'p' for paper, and 's' for scissors: \") \n",
    "print(\"Great choice! now- cover your answer and ask \"+ name2 + \" to choose.\\n\\n\\n\") \n",
    "choice2=input(name2+ \": enter 'r' for rock, 'p' for paper, and 's' for scissors: \")\n",
    "if choicel==choice2:\n",
    "    print(\"Thanks for playing Rock, Paper, Scissors\")\n",
    "else:\n",
    "    print(\"play again\")"
   ]
  },
  {
   "cell_type": "code",
   "execution_count": 18,
   "id": "19b25793",
   "metadata": {},
   "outputs": [
    {
     "name": "stdout",
     "output_type": "stream",
     "text": [
      "Welcome to Rock, Paper, Scissors!\n",
      "Let's Begin ...\n",
      "Player 1: What's your name?R1\n",
      "Player 2: What's your name?\n",
      "R2\n",
      "HelloR1 R2\n",
      "R2: Close your eyes!\n",
      "R1:enter 'r' for rock, 'p' for paper, and 's' for scissors: r\n",
      "Great choice! now- cover your answer and ask R2 to choose.\n",
      "\n",
      "\n",
      "\n",
      "R2: enter 'r' for rock, 'p' for paper, and 's' for scissors: r\n",
      "Thanks for playing Rock, Paper, Scissors\n"
     ]
    }
   ],
   "source": [
    "# To check again task 3 problem,\n",
    "print(\"Welcome to Rock, Paper, Scissors!\") \n",
    "print(\"Let's Begin ...\")\n",
    "namel= input(\"Player 1: What's your name?\") \n",
    "name2=input(\"Player 2: What's your name?\\n\")\n",
    "\n",
    "print(\"Hello\"+ namel, name2)\n",
    "print (name2+\": Close your eyes!\")\n",
    "\n",
    "choicel =input(namel+\":enter 'r' for rock, 'p' for paper, and 's' for scissors: \") \n",
    "print(\"Great choice! now- cover your answer and ask \"+ name2 + \" to choose.\\n\\n\\n\") \n",
    "choice2=input(name2+ \": enter 'r' for rock, 'p' for paper, and 's' for scissors: \")\n",
    "if choicel==choice2:\n",
    "    print(\"Thanks for playing Rock, Paper, Scissors\")\n",
    "else:\n",
    "    print(\"play again\")"
   ]
  },
  {
   "cell_type": "markdown",
   "id": "54338fed",
   "metadata": {},
   "source": [
    "# Task 4:"
   ]
  },
  {
   "cell_type": "markdown",
   "id": "190a10eb",
   "metadata": {},
   "source": [
    "# a)Write a python script that will ask a user what their birth year is, and if they’ve had their birthday this year. Print the user’s correct age on the screen, and wish them a happy birthday if it’s past (or “I hope you have a good birthday!” if they haven’t had their birthday yet)."
   ]
  },
  {
   "cell_type": "code",
   "execution_count": 21,
   "id": "af5ecf40",
   "metadata": {},
   "outputs": [
    {
     "name": "stdout",
     "output_type": "stream",
     "text": [
      "Enter birth year: 2000\n",
      "Enter current year: 2022\n",
      "22 2000 Wow, Happy Birthday!\n"
     ]
    }
   ],
   "source": [
    "#Ans-Task 4(a)\n",
    "birth_year=int(input(\"Enter birth year: \"))\n",
    "current_year=int(input('Enter current year: '))\n",
    "if birth_year%4==0 and birth_year%400==0:\n",
    "    print(current_year-birth_year ,birth_year , \"Wow, Happy Birthday!\")\n",
    "elif birth_year%4==0 or birth_year%400==0:\n",
    "        print(current_year-birth_year ,birth_year , \"Wow, Happy Birthday\")\n",
    "else:\n",
    "    print(current_year-birth_year ,birth_year ,'I hope you have a good birthday!')"
   ]
  },
  {
   "cell_type": "code",
   "execution_count": 22,
   "id": "fcc15cb6",
   "metadata": {},
   "outputs": [
    {
     "name": "stdout",
     "output_type": "stream",
     "text": [
      "Enter birth year: 2008\n",
      "Enter current year: 2021\n",
      "13 2008 Wow, Happy Birthday\n"
     ]
    }
   ],
   "source": [
    "# second time test of code.\n",
    "birth_year=int(input(\"Enter birth year: \"))\n",
    "current_year=int(input('Enter current year: '))\n",
    "if birth_year%4==0 and birth_year%400==0:\n",
    "    print(current_year-birth_year ,birth_year , \"Wow, Happy Birthday!\")\n",
    "elif birth_year%4==0 or birth_year%400==0:\n",
    "        print(current_year-birth_year ,birth_year , \"Wow, Happy Birthday\")\n",
    "else:\n",
    "    print(current_year-birth_year ,birth_year ,'I hope you have a good birthday!')"
   ]
  },
  {
   "cell_type": "code",
   "execution_count": 23,
   "id": "7d9787b5",
   "metadata": {},
   "outputs": [
    {
     "name": "stdout",
     "output_type": "stream",
     "text": [
      "Enter birth year: 1991\n",
      "Enter current year: 2008\n",
      "17 1991 I hope you have a good birthday!\n"
     ]
    }
   ],
   "source": [
    "#second time test of code.\n",
    "birth_year=int(input(\"Enter birth year: \"))\n",
    "current_year=int(input('Enter current year: '))\n",
    "if birth_year%4==0 and birth_year%400==0:\n",
    "    print(current_year-birth_year ,birth_year , \"Wow, Happy Birthday!\")\n",
    "elif birth_year%4==0 or birth_year%400==0:\n",
    "        print(current_year-birth_year ,birth_year , \"Wow, Happy Birthday\")\n",
    "else:\n",
    "    print(current_year-birth_year ,birth_year ,'I hope you have a good birthday!')"
   ]
  },
  {
   "cell_type": "markdown",
   "id": "dd964dd3",
   "metadata": {},
   "source": [
    "# b)Write a python script by considering the scenario: The computer chooses a random number (1-6) that represents the roll of a die. Your program then asks the user what their guess is, and gives them a “Correct” or “wrong” message accordingly."
   ]
  },
  {
   "cell_type": "code",
   "execution_count": 19,
   "id": "a3f306d1",
   "metadata": {},
   "outputs": [
    {
     "name": "stdout",
     "output_type": "stream",
     "text": [
      "What is your name?Mrs. Rajni Gupta\n",
      "Hi Mrs. Rajni Gupta !\n",
      "what is your guess? 6\n",
      "wrong\n"
     ]
    }
   ],
   "source": [
    "#Ans-Task 4(b)\n",
    "import random\n",
    "minGuess=1\n",
    "maxGuess=6\n",
    "\n",
    "#Ask the user for their name and their guess \n",
    "name1=input(\"What is your name?\")\n",
    "print(\"Hi\",name1,\"!\")\n",
    "guess =int(input(\"what is your guess? \" ))\n",
    "#generate a randon number and tell the user if they correct or wrong\n",
    "randomNumber= random.randint(minGuess,maxGuess)\n",
    "if guess==randomNumber:\n",
    "    print(\"Correct\")\n",
    "else: \n",
    "    print(\"wrong\")"
   ]
  },
  {
   "cell_type": "code",
   "execution_count": 20,
   "id": "359b7765",
   "metadata": {},
   "outputs": [
    {
     "name": "stdout",
     "output_type": "stream",
     "text": [
      "What is your name?Ritesh\n",
      "Hi Ritesh !\n",
      "what is your guess? 3\n",
      "wrong\n"
     ]
    }
   ],
   "source": [
    "# second attempt of task 4(b)\n",
    "import random\n",
    "minGuess=1\n",
    "maxGuess=6\n",
    "\n",
    "#Ask the user for their name and their guess \n",
    "name1=input(\"What is your name?\")\n",
    "print(\"Hi\",name1,\"!\")\n",
    "guess =int(input(\"what is your guess? \" ))\n",
    "#generate a randon number and tell the user if they correct or wrong\n",
    "randomNumber= random.randint(minGuess,maxGuess)\n",
    "if guess==randomNumber:\n",
    "    print(\"Correct\")\n",
    "else: \n",
    "    print(\"wrong\")"
   ]
  },
  {
   "cell_type": "markdown",
   "id": "b7a9bcea",
   "metadata": {},
   "source": [
    "                                   Keep Learning, Keep Growing."
   ]
  }
 ],
 "metadata": {
  "kernelspec": {
   "display_name": "Python 3 (ipykernel)",
   "language": "python",
   "name": "python3"
  },
  "language_info": {
   "codemirror_mode": {
    "name": "ipython",
    "version": 3
   },
   "file_extension": ".py",
   "mimetype": "text/x-python",
   "name": "python",
   "nbconvert_exporter": "python",
   "pygments_lexer": "ipython3",
   "version": "3.9.7"
  }
 },
 "nbformat": 4,
 "nbformat_minor": 5
}
